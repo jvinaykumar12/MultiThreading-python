{
 "cells": [
  {
   "cell_type": "code",
   "execution_count": 1,
   "id": "00bc7313",
   "metadata": {},
   "outputs": [
    {
     "name": "stdout",
     "output_type": "stream",
     "text": [
      "3f  4f  \n",
      "2f  1f  \n",
      "\n",
      "\n",
      "1\n",
      "2\n",
      "3\n",
      "4\n",
      "4.13\n"
     ]
    }
   ],
   "source": [
    "import time \n",
    "import multiprocessing \n",
    "import concurrent.futures\n",
    "\n",
    "def something(x):\n",
    "    print(f'{x}f  ')\n",
    "    time.sleep(x)\n",
    "    print (x)\n",
    "    return x\n",
    "start = time.perf_counter()\n",
    "with concurrent.futures.ProcessPoolExecutor(8) as pool:\n",
    "    num = [3,4,2,1]\n",
    "    result = [pool.submit(something,i) for i in num] \n",
    "\n",
    "#     # for i in concurrent.futures.as_completed(result):\n",
    "#     #     print(i.result())\n",
    "#     result = pool.map(something,num)\n",
    "#     for ink in result:\n",
    "#         print(ink)\n",
    "\n",
    "# ps = []\n",
    "# for i in range(8):\n",
    "#     p = multiprocessing.Process(target = something, args=[i+1])\n",
    "#     p.start()\n",
    "#     ps.append(p)\n",
    "end = time.perf_counter()\n",
    "print(f'{round(end-start,2)}')"
   ]
  },
  {
   "cell_type": "code",
   "execution_count": 2,
   "id": "b64c2937",
   "metadata": {},
   "outputs": [
    {
     "ename": "FileNotFoundError",
     "evalue": "[Errno 2] No such file or directory: 'Pictures/wallpapers/mbuntu-1.jpg'",
     "output_type": "error",
     "traceback": [
      "\u001b[0;31m---------------------------------------------------------------------------\u001b[0m",
      "\u001b[0;31mFileNotFoundError\u001b[0m                         Traceback (most recent call last)",
      "\u001b[0;32m/tmp/ipykernel_328216/2028325546.py\u001b[0m in \u001b[0;36m<module>\u001b[0;34m\u001b[0m\n\u001b[1;32m      1\u001b[0m \u001b[0;32mfrom\u001b[0m \u001b[0mPIL\u001b[0m \u001b[0;32mimport\u001b[0m \u001b[0mImage\u001b[0m\u001b[0;34m,\u001b[0m\u001b[0mImageFilter\u001b[0m\u001b[0;34m\u001b[0m\u001b[0;34m\u001b[0m\u001b[0m\n\u001b[1;32m      2\u001b[0m \u001b[0;32mimport\u001b[0m \u001b[0mnumpy\u001b[0m\u001b[0;34m\u001b[0m\u001b[0;34m\u001b[0m\u001b[0m\n\u001b[0;32m----> 3\u001b[0;31m \u001b[0mimg\u001b[0m \u001b[0;34m=\u001b[0m \u001b[0;34m[\u001b[0m\u001b[0mImage\u001b[0m\u001b[0;34m.\u001b[0m\u001b[0mopen\u001b[0m\u001b[0;34m(\u001b[0m\u001b[0;34mf'Pictures/wallpapers/mbuntu-{i}.jpg'\u001b[0m\u001b[0;34m)\u001b[0m \u001b[0;32mfor\u001b[0m \u001b[0mi\u001b[0m \u001b[0;32min\u001b[0m \u001b[0mrange\u001b[0m\u001b[0;34m(\u001b[0m\u001b[0;36m1\u001b[0m\u001b[0;34m,\u001b[0m\u001b[0;36m14\u001b[0m\u001b[0;34m)\u001b[0m\u001b[0;34m]\u001b[0m\u001b[0;34m\u001b[0m\u001b[0;34m\u001b[0m\u001b[0m\n\u001b[0m\u001b[1;32m      4\u001b[0m \u001b[0mk\u001b[0m \u001b[0;34m=\u001b[0m \u001b[0;36m0\u001b[0m\u001b[0;34m\u001b[0m\u001b[0;34m\u001b[0m\u001b[0m\n\u001b[1;32m      5\u001b[0m \u001b[0msize\u001b[0m \u001b[0;34m=\u001b[0m \u001b[0;34m(\u001b[0m\u001b[0;36m1200\u001b[0m\u001b[0;34m,\u001b[0m\u001b[0;36m1200\u001b[0m\u001b[0;34m)\u001b[0m\u001b[0;34m\u001b[0m\u001b[0;34m\u001b[0m\u001b[0m\n",
      "\u001b[0;32m/tmp/ipykernel_328216/2028325546.py\u001b[0m in \u001b[0;36m<listcomp>\u001b[0;34m(.0)\u001b[0m\n\u001b[1;32m      1\u001b[0m \u001b[0;32mfrom\u001b[0m \u001b[0mPIL\u001b[0m \u001b[0;32mimport\u001b[0m \u001b[0mImage\u001b[0m\u001b[0;34m,\u001b[0m\u001b[0mImageFilter\u001b[0m\u001b[0;34m\u001b[0m\u001b[0;34m\u001b[0m\u001b[0m\n\u001b[1;32m      2\u001b[0m \u001b[0;32mimport\u001b[0m \u001b[0mnumpy\u001b[0m\u001b[0;34m\u001b[0m\u001b[0;34m\u001b[0m\u001b[0m\n\u001b[0;32m----> 3\u001b[0;31m \u001b[0mimg\u001b[0m \u001b[0;34m=\u001b[0m \u001b[0;34m[\u001b[0m\u001b[0mImage\u001b[0m\u001b[0;34m.\u001b[0m\u001b[0mopen\u001b[0m\u001b[0;34m(\u001b[0m\u001b[0;34mf'Pictures/wallpapers/mbuntu-{i}.jpg'\u001b[0m\u001b[0;34m)\u001b[0m \u001b[0;32mfor\u001b[0m \u001b[0mi\u001b[0m \u001b[0;32min\u001b[0m \u001b[0mrange\u001b[0m\u001b[0;34m(\u001b[0m\u001b[0;36m1\u001b[0m\u001b[0;34m,\u001b[0m\u001b[0;36m14\u001b[0m\u001b[0;34m)\u001b[0m\u001b[0;34m]\u001b[0m\u001b[0;34m\u001b[0m\u001b[0;34m\u001b[0m\u001b[0m\n\u001b[0m\u001b[1;32m      4\u001b[0m \u001b[0mk\u001b[0m \u001b[0;34m=\u001b[0m \u001b[0;36m0\u001b[0m\u001b[0;34m\u001b[0m\u001b[0;34m\u001b[0m\u001b[0m\n\u001b[1;32m      5\u001b[0m \u001b[0msize\u001b[0m \u001b[0;34m=\u001b[0m \u001b[0;34m(\u001b[0m\u001b[0;36m1200\u001b[0m\u001b[0;34m,\u001b[0m\u001b[0;36m1200\u001b[0m\u001b[0;34m)\u001b[0m\u001b[0;34m\u001b[0m\u001b[0;34m\u001b[0m\u001b[0m\n",
      "\u001b[0;32m/usr/lib/python3/dist-packages/PIL/Image.py\u001b[0m in \u001b[0;36mopen\u001b[0;34m(fp, mode)\u001b[0m\n\u001b[1;32m   2807\u001b[0m \u001b[0;34m\u001b[0m\u001b[0m\n\u001b[1;32m   2808\u001b[0m     \u001b[0;32mif\u001b[0m \u001b[0mfilename\u001b[0m\u001b[0;34m:\u001b[0m\u001b[0;34m\u001b[0m\u001b[0;34m\u001b[0m\u001b[0m\n\u001b[0;32m-> 2809\u001b[0;31m         \u001b[0mfp\u001b[0m \u001b[0;34m=\u001b[0m \u001b[0mbuiltins\u001b[0m\u001b[0;34m.\u001b[0m\u001b[0mopen\u001b[0m\u001b[0;34m(\u001b[0m\u001b[0mfilename\u001b[0m\u001b[0;34m,\u001b[0m \u001b[0;34m\"rb\"\u001b[0m\u001b[0;34m)\u001b[0m\u001b[0;34m\u001b[0m\u001b[0;34m\u001b[0m\u001b[0m\n\u001b[0m\u001b[1;32m   2810\u001b[0m         \u001b[0mexclusive_fp\u001b[0m \u001b[0;34m=\u001b[0m \u001b[0;32mTrue\u001b[0m\u001b[0;34m\u001b[0m\u001b[0;34m\u001b[0m\u001b[0m\n\u001b[1;32m   2811\u001b[0m \u001b[0;34m\u001b[0m\u001b[0m\n",
      "\u001b[0;31mFileNotFoundError\u001b[0m: [Errno 2] No such file or directory: 'Pictures/wallpapers/mbuntu-1.jpg'"
     ]
    }
   ],
   "source": [
    "from PIL import Image,ImageFilter\n",
    "import numpy\n",
    "img = [Image.open(f'Pictures/wallpapers/mbuntu-{i}.jpg') for i in range(1,14)]\n",
    "k = 0\n",
    "size = (1200,1200)\n",
    "for j in img:\n",
    "    j = j.filter(ImageFilter.GaussianBlur(15))\n",
    "    j = j.filter(ImageFilter.BLUR)\n",
    "    j = j.filter(ImageFilter.CONTOUR)\n",
    "    j = j.filter(ImageFilter.EDGE_ENHANCE)\n",
    "    j.thumbnail(size)\n",
    "    j.save(f'test/{k}.jpg')\n",
    "    k = k+1\n",
    "\n",
    "print (k)"
   ]
  },
  {
   "cell_type": "code",
   "execution_count": null,
   "id": "ab194941",
   "metadata": {},
   "outputs": [
    {
     "name": "stdout",
     "output_type": "stream",
     "text": [
      "12\n",
      "12\n",
      "12\n",
      "test\n",
      "12\n",
      "12\n",
      "test\n",
      "test\n",
      "12\n",
      "12\n",
      "12\n",
      "12\n",
      "12\n",
      "12\n",
      "test\n",
      "test\n",
      "test\n",
      "12\n",
      "test12\n",
      "\n",
      "test\n",
      "test\n",
      "test\n",
      "test\n",
      "test\n",
      "test\n"
     ]
    }
   ],
   "source": [
    "from PIL import Image,ImageFilter\n",
    "import concurrent.futures\n",
    "import numpy\n",
    "img = [Image.open(f'Pictures/wallpapers/mbuntu-{i}.jpg') for i in range(1,14)]\n",
    "\n",
    "size = (1200,1200)\n",
    "k = 12\n",
    "def gauss(j):\n",
    "    j =  j.filter(ImageFilter.GaussianBlur(12))\n",
    "    # j =  j.filter(ImageFilter.BLUR)\n",
    "    # j =  j.filter(ImageFilter.EDGE_ENHANCE)\n",
    "    # j =  j.filter(ImageFilter.CONTOUR)\n",
    "    print (k)\n",
    "    j.thumbnail(size)\n",
    "    j.save(f'test3/{k}.jpg')  \n",
    "    print(\"test\")\n",
    "    return()\n",
    "with concurrent.futures.ThreadPoolExecutor(14) as pool2:\n",
    "    for q in img:\n",
    "        pool2.submit(gauss,q)\n",
    "# pool2 = concurrent.futures.ProcessPoolExecutor(50) \n",
    "# for q in img:\n",
    "#     pool2.submit(gauss,q,k)\n",
    "#     k = k+1\n"
   ]
  },
  {
   "cell_type": "code",
   "execution_count": null,
   "id": "21a05e7a",
   "metadata": {},
   "outputs": [],
   "source": [
    "from concurrent.futures import ProcessPoolExecutor\n",
    "from time import sleep\n",
    "def task(message):\n",
    "   sleep(22)\n",
    "   return message\n",
    "#test\n",
    "\n",
    "with concurrent.futures.ProcessPoolExecutor(15) as executor:\n",
    "   executor.submit(task, (\"Completed\"))\n",
    "   executor.submit(task, (\"Completed\"))\n",
    "   executor.submit(task, (\"Completed\"))\n",
    "   executor.submit(task, (\"Completed\"))\n",
    "   executor.submit(task, (\"Completed\"))\n",
    "   executor.submit(task, (\"Completed\"))\n",
    "   executor.submit(task, (\"Completed\"))\n",
    "   executor.submit(task, (\"Completed\"))\n",
    "   executor.submit(task, (\"Completed\"))\n",
    "   executor.submit(task, (\"Completed\"))\n",
    "   \n"
   ]
  },
  {
   "cell_type": "code",
   "execution_count": null,
   "id": "cbb7a859",
   "metadata": {},
   "outputs": [],
   "source": []
  }
 ],
 "metadata": {
  "kernelspec": {
   "display_name": "Python 3 (ipykernel)",
   "language": "python",
   "name": "python3"
  },
  "language_info": {
   "codemirror_mode": {
    "name": "ipython",
    "version": 3
   },
   "file_extension": ".py",
   "mimetype": "text/x-python",
   "name": "python",
   "nbconvert_exporter": "python",
   "pygments_lexer": "ipython3",
   "version": "3.8.10"
  }
 },
 "nbformat": 4,
 "nbformat_minor": 5
}
