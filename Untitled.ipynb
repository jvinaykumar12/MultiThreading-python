{
 "cells": [
  {
   "cell_type": "code",
   "execution_count": 1,
   "id": "00bc7313",
   "metadata": {},
   "outputs": [
    {
     "name": "stdout",
     "output_type": "stream",
     "text": [
      "3f  1f  2f  \n",
      "4f  \n",
      "\n",
      "\n",
      "1\n",
      "2\n",
      "3\n",
      "4\n",
      "4.11\n"
     ]
    }
   ],
   "source": [
    "import time \n",
    "import multiprocessing \n",
    "import concurrent.futures\n",
    "\n",
    "def something(x):\n",
    "    print(f'{x}f  ')\n",
    "    time.sleep(x)\n",
    "    print (x)\n",
    "    return x\n",
    "start = time.perf_counter()\n",
    "with concurrent.futures.ProcessPoolExecutor(8) as pool:\n",
    "    num = [3,4,2,1]\n",
    "    result = [pool.submit(something,i) for i in num] \n",
    "\n",
    "#     # for i in concurrent.futures.as_completed(result):\n",
    "#     #     print(i.result())\n",
    "#     result = pool.map(something,num)\n",
    "#     for ink in result:\n",
    "#         print(ink)\n",
    "\n",
    "# ps = []\n",
    "# for i in range(8):\n",
    "#     p = multiprocessing.Process(target = something, args=[i+1])\n",
    "#     p.start()\n",
    "#     ps.append(p)\n",
    "end = time.perf_counter()\n",
    "print(f'{round(end-start,2)}')"
   ]
  },
  {
   "cell_type": "code",
   "execution_count": 7,
   "id": "b64c2937",
   "metadata": {},
   "outputs": [
    {
     "name": "stdout",
     "output_type": "stream",
     "text": [
      "13\n"
     ]
    }
   ],
   "source": [
    "from PIL import Image,ImageFilter\n",
    "import numpy\n",
    "img = [Image.open(f'Pictures/wallpapers/mbuntu-{i}.jpg') for i in range(1,14)]\n",
    "k = 0\n",
    "size = (1200,1200)\n",
    "for j in img:\n",
    "    j = j.filter(ImageFilter.GaussianBlur(15))\n",
    "    j = j.filter(ImageFilter.BLUR)\n",
    "    j = j.filter(ImageFilter.CONTOUR)\n",
    "    j = j.filter(ImageFilter.EDGE_ENHANCE)\n",
    "    j.thumbnail(size)\n",
    "    j.save(f'test/{k}.jpg')\n",
    "    k = k+1\n",
    "\n",
    "print (k)"
   ]
  },
  {
   "cell_type": "code",
   "execution_count": 8,
   "id": "ab194941",
   "metadata": {},
   "outputs": [
    {
     "name": "stdout",
     "output_type": "stream",
     "text": [
      "12\n",
      "12\n",
      "12\n",
      "test\n",
      "12\n",
      "12\n",
      "test\n",
      "test\n",
      "12\n",
      "12\n",
      "12\n",
      "12\n",
      "12\n",
      "12\n",
      "test\n",
      "test\n",
      "test\n",
      "12\n",
      "test12\n",
      "\n",
      "test\n",
      "test\n",
      "test\n",
      "test\n",
      "test\n",
      "test\n"
     ]
    }
   ],
   "source": [
    "from PIL import Image,ImageFilter\n",
    "import concurrent.futures\n",
    "import numpy\n",
    "img = [Image.open(f'Pictures/wallpapers/mbuntu-{i}.jpg') for i in range(1,14)]\n",
    "\n",
    "size = (1200,1200)\n",
    "k = 12\n",
    "def gauss(j):\n",
    "    j =  j.filter(ImageFilter.GaussianBlur(12))\n",
    "    # j =  j.filter(ImageFilter.BLUR)\n",
    "    # j =  j.filter(ImageFilter.EDGE_ENHANCE)\n",
    "    # j =  j.filter(ImageFilter.CONTOUR)\n",
    "    print (k)\n",
    "    j.thumbnail(size)\n",
    "    j.save(f'test3/{k}.jpg')  \n",
    "    print(\"test\")\n",
    "    return()\n",
    "with concurrent.futures.ThreadPoolExecutor(14) as pool2:\n",
    "    for q in img:\n",
    "        pool2.submit(gauss,q)\n",
    "# pool2 = concurrent.futures.ProcessPoolExecutor(50) \n",
    "# for q in img:\n",
    "#     pool2.submit(gauss,q,k)\n",
    "#     k = k+1\n"
   ]
  },
  {
   "cell_type": "code",
   "execution_count": 11,
   "id": "21a05e7a",
   "metadata": {},
   "outputs": [],
   "source": [
    "from concurrent.futures import ProcessPoolExecutor\n",
    "from time import sleep\n",
    "def task(message):\n",
    "   sleep(2)\n",
    "   return message\n",
    "\n",
    "with concurrent.futures.ProcessPoolExecutor(15) as executor:\n",
    "   executor.submit(task, (\"Completed\"))\n",
    "   executor.submit(task, (\"Completed\"))\n",
    "   executor.submit(task, (\"Completed\"))\n",
    "   executor.submit(task, (\"Completed\"))\n",
    "   executor.submit(task, (\"Completed\"))\n",
    "   executor.submit(task, (\"Completed\"))\n",
    "   executor.submit(task, (\"Completed\"))\n",
    "   executor.submit(task, (\"Completed\"))\n",
    "   executor.submit(task, (\"Completed\"))\n",
    "   executor.submit(task, (\"Completed\"))\n",
    "   \n"
   ]
  },
  {
   "cell_type": "code",
   "execution_count": null,
   "id": "cbb7a859",
   "metadata": {},
   "outputs": [],
   "source": []
  }
 ],
 "metadata": {
  "kernelspec": {
   "display_name": "Python 3 (ipykernel)",
   "language": "python",
   "name": "python3"
  },
  "language_info": {
   "codemirror_mode": {
    "name": "ipython",
    "version": 3
   },
   "file_extension": ".py",
   "mimetype": "text/x-python",
   "name": "python",
   "nbconvert_exporter": "python",
   "pygments_lexer": "ipython3",
   "version": "3.8.8"
  }
 },
 "nbformat": 4,
 "nbformat_minor": 5
}
