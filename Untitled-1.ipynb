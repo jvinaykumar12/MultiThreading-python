{
 "cells": [
  {
   "cell_type": "code",
   "execution_count": 4,
   "metadata": {},
   "outputs": [
    {
     "name": "stdout",
     "output_type": "stream",
     "text": [
      "0\n",
      "9\n"
     ]
    }
   ],
   "source": [
    "from PIL import Image,ImageFilter\n",
    "import concurrent.futures\n",
    "import numpy\n",
    "img = [Image.open(f'../Pictures/wallpapers/mbuntu-{i}.jpg') for i in range(1,10)]\n",
    "\n",
    "size = (1200,1200)\n",
    "k = 0\n",
    "def gauss(j):\n",
    "    # j =  j.filter(ImageFilter.GaussianBlur(12))\n",
    "    # j =  j.filter(ImageFilter.BLUR)\n",
    "    # j =  j.filter(ImageFilter.CONTOUR)\n",
    "    j =  j.filter(ImageFilter.EDGE_ENHANCE)\n",
    "    # j.thumbnail(size)\n",
    "    j.save(f'test3/{k}.jpg')\n",
    "    k = k+1\n",
    "    print ('test')\n",
    "    return()\n",
    "with concurrent.futures.ProcessPoolExecutor(14) as pool2:\n",
    "    for q in img:\n",
    "        pool2.submit(gauss,q)\n",
    "# pool2 = concurrent.futures.ProcessPoolExecutor(13) \n",
    "# for q in img:\n",
    "#     pool2.submit(gauss)\n",
    "print (k)\n",
    "print (len(img))\n",
    "\n"
   ]
  },
  {
   "cell_type": "code",
   "execution_count": null,
   "metadata": {},
   "outputs": [],
   "source": []
  }
 ],
 "metadata": {
  "interpreter": {
   "hash": "916dbcbb3f70747c44a77c7bcd40155683ae19c65e1c03b4aa3499c5328201f1"
  },
  "kernelspec": {
   "display_name": "Python 3.8.10 64-bit",
   "language": "python",
   "name": "python3"
  },
  "language_info": {
   "codemirror_mode": {
    "name": "ipython",
    "version": 3
   },
   "file_extension": ".py",
   "mimetype": "text/x-python",
   "name": "python",
   "nbconvert_exporter": "python",
   "pygments_lexer": "ipython3",
   "version": "3.8.10"
  },
  "orig_nbformat": 4
 },
 "nbformat": 4,
 "nbformat_minor": 2
}
